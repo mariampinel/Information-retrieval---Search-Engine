{
  "nbformat": 4,
  "nbformat_minor": 0,
  "metadata": {
    "colab": {
      "provenance": [],
      "authorship_tag": "ABX9TyO9dY2apZIK5pe5myT0cnRs",
      "include_colab_link": true
    },
    "kernelspec": {
      "name": "python3",
      "display_name": "Python 3"
    },
    "language_info": {
      "name": "python"
    }
  },
  "cells": [
    {
      "cell_type": "markdown",
      "metadata": {
        "id": "view-in-github",
        "colab_type": "text"
      },
      "source": [
        "<a href=\"https://colab.research.google.com/github/mariampinel/Information-retrieval-Search-Engine/blob/main/Genius_engine.ipynb\" target=\"_parent\"><img src=\"https://colab.research.google.com/assets/colab-badge.svg\" alt=\"Open In Colab\"/></a>"
      ]
    },
    {
      "cell_type": "code",
      "execution_count": null,
      "metadata": {
        "id": "xaYqpamGez9Q"
      },
      "outputs": [],
      "source": [
        "!pip install nltk\n",
        "import re\n",
        "import nltk\n",
        "from nltk.corpus import stopwords\n",
        "from nltk.tokenize import word_tokenize\n",
        "from nltk.stem import PorterStemmer\n",
        "\n",
        "nltk.download('stopwords')\n",
        "nltk.download('punkt')"
      ]
    },
    {
      "cell_type": "markdown",
      "source": [
        "# Upload dataset\n"
      ],
      "metadata": {
        "id": "G_How1pclpnF"
      }
    },
    {
      "cell_type": "code",
      "source": [
        "# Download dataset\n"
      ],
      "metadata": {
        "id": "7pP0GGQElrTR"
      },
      "execution_count": null,
      "outputs": []
    },
    {
      "cell_type": "markdown",
      "source": [
        "# Preprocessing"
      ],
      "metadata": {
        "id": "8tF0UdSelM8t"
      }
    },
    {
      "cell_type": "code",
      "source": [
        "# Keep rows with valid language labels\n",
        "df_clean = df.dropna(subset=[\"language_cld3\", \"language_ft\"])\n",
        "df_clean = df_clean[df_clean[\"language_cld3\"] == df_clean[\"language_ft\"]]\n"
      ],
      "metadata": {
        "colab": {
          "base_uri": "https://localhost:8080/",
          "height": 176
        },
        "id": "LLfiQ3l_lS93",
        "outputId": "6bc683db-d10e-4b20-b04d-90aca54434de"
      },
      "execution_count": 1,
      "outputs": [
        {
          "output_type": "error",
          "ename": "NameError",
          "evalue": "name 'df' is not defined",
          "traceback": [
            "\u001b[0;31m---------------------------------------------------------------------------\u001b[0m",
            "\u001b[0;31mNameError\u001b[0m                                 Traceback (most recent call last)",
            "\u001b[0;32m<ipython-input-1-dc5768ba77e4>\u001b[0m in \u001b[0;36m<cell line: 0>\u001b[0;34m()\u001b[0m\n\u001b[1;32m      1\u001b[0m \u001b[0;31m# Keep rows with valid language labels\u001b[0m\u001b[0;34m\u001b[0m\u001b[0;34m\u001b[0m\u001b[0m\n\u001b[0;32m----> 2\u001b[0;31m \u001b[0mdf_clean\u001b[0m \u001b[0;34m=\u001b[0m \u001b[0mdf\u001b[0m\u001b[0;34m.\u001b[0m\u001b[0mdropna\u001b[0m\u001b[0;34m(\u001b[0m\u001b[0msubset\u001b[0m\u001b[0;34m=\u001b[0m\u001b[0;34m[\u001b[0m\u001b[0;34m\"language_cld3\"\u001b[0m\u001b[0;34m,\u001b[0m \u001b[0;34m\"language_ft\"\u001b[0m\u001b[0;34m]\u001b[0m\u001b[0;34m)\u001b[0m\u001b[0;34m\u001b[0m\u001b[0;34m\u001b[0m\u001b[0m\n\u001b[0m\u001b[1;32m      3\u001b[0m \u001b[0mdf_clean\u001b[0m \u001b[0;34m=\u001b[0m \u001b[0mdf_clean\u001b[0m\u001b[0;34m[\u001b[0m\u001b[0mdf_clean\u001b[0m\u001b[0;34m[\u001b[0m\u001b[0;34m\"language_cld3\"\u001b[0m\u001b[0;34m]\u001b[0m \u001b[0;34m==\u001b[0m \u001b[0mdf_clean\u001b[0m\u001b[0;34m[\u001b[0m\u001b[0;34m\"language_ft\"\u001b[0m\u001b[0;34m]\u001b[0m\u001b[0;34m]\u001b[0m\u001b[0;34m\u001b[0m\u001b[0;34m\u001b[0m\u001b[0m\n",
            "\u001b[0;31mNameError\u001b[0m: name 'df' is not defined"
          ]
        }
      ]
    },
    {
      "cell_type": "code",
      "source": [
        "# Remove text noise\n",
        "def clean_text(text):\n",
        "    text = text.lower()\n",
        "    text = re.sub(r\"http\\S+\", \"\", text)  # remove URLs\n",
        "    text = re.sub(r\"[^a-z0-9\\s]\", \"\", text)  # remove special chars\n",
        "    text = re.sub(r\"\\s+\", \" \", text)  # remove extra spaces\n",
        "    return text.strip()\n",
        "\n",
        "df_clean[\"text_clean\"] = df_clean[\"text\"].apply(clean_text)\n",
        "\n",
        "# Keep English lyrics only\n",
        "df_clean = df_clean[df_clean[\"language_cld3\"] == \"en\"]\n",
        "\n",
        "\n",
        "# Remove short texts\n",
        "df_clean = df_clean[df_clean[\"text_clean\"].str.len() > 20]\n",
        "\n",
        "# Remove duplicates\n",
        "df_clean = df_clean.drop_duplicates(subset=[\"text_clean\"])\n",
        "\n",
        "\n",
        "# Stopword removal & Word stemming\n",
        "stop_words = set(stopwords.words('english'))\n",
        "stemmer = PorterStemmer()\n",
        "\n",
        "def clean_and_process(text):\n",
        "    text = text.lower()\n",
        "    tokens = word_tokenize(text)  # split into words\n",
        "    filtered = [word for word in tokens if word.isalnum() and word not in stop_words]\n",
        "    stemmed = [stemmer.stem(word) for word in filtered]\n",
        "    return \" \".join(stemmed)\n",
        "\n",
        "df_clean[\"text_processed\"] = df_clean[\"text_clean\"].apply(clean_and_process)\n"
      ],
      "metadata": {
        "colab": {
          "base_uri": "https://localhost:8080/",
          "height": 211
        },
        "id": "BfR7oFKVlkgc",
        "outputId": "d38f8137-5a22-4ffe-e1b4-f0ef3e0455da"
      },
      "execution_count": 2,
      "outputs": [
        {
          "output_type": "error",
          "ename": "NameError",
          "evalue": "name 'df_clean' is not defined",
          "traceback": [
            "\u001b[0;31m---------------------------------------------------------------------------\u001b[0m",
            "\u001b[0;31mNameError\u001b[0m                                 Traceback (most recent call last)",
            "\u001b[0;32m<ipython-input-2-ad7a3f158079>\u001b[0m in \u001b[0;36m<cell line: 0>\u001b[0;34m()\u001b[0m\n\u001b[1;32m      7\u001b[0m     \u001b[0;32mreturn\u001b[0m \u001b[0mtext\u001b[0m\u001b[0;34m.\u001b[0m\u001b[0mstrip\u001b[0m\u001b[0;34m(\u001b[0m\u001b[0;34m)\u001b[0m\u001b[0;34m\u001b[0m\u001b[0;34m\u001b[0m\u001b[0m\n\u001b[1;32m      8\u001b[0m \u001b[0;34m\u001b[0m\u001b[0m\n\u001b[0;32m----> 9\u001b[0;31m \u001b[0mdf_clean\u001b[0m\u001b[0;34m[\u001b[0m\u001b[0;34m\"text_clean\"\u001b[0m\u001b[0;34m]\u001b[0m \u001b[0;34m=\u001b[0m \u001b[0mdf_clean\u001b[0m\u001b[0;34m[\u001b[0m\u001b[0;34m\"text\"\u001b[0m\u001b[0;34m]\u001b[0m\u001b[0;34m.\u001b[0m\u001b[0mapply\u001b[0m\u001b[0;34m(\u001b[0m\u001b[0mclean_text\u001b[0m\u001b[0;34m)\u001b[0m\u001b[0;34m\u001b[0m\u001b[0;34m\u001b[0m\u001b[0m\n\u001b[0m\u001b[1;32m     10\u001b[0m \u001b[0;34m\u001b[0m\u001b[0m\n\u001b[1;32m     11\u001b[0m \u001b[0;31m# Keep English lyrics only\u001b[0m\u001b[0;34m\u001b[0m\u001b[0;34m\u001b[0m\u001b[0m\n",
            "\u001b[0;31mNameError\u001b[0m: name 'df_clean' is not defined"
          ]
        }
      ]
    },
    {
      "cell_type": "markdown",
      "source": [
        "# Indexing method\n",
        "\n",
        "Depending on your retrieval method:\n",
        "\n",
        "- BM25: Tokenize and vectorize text_clean\n",
        "\n",
        "- Dense retrieval (e.g., using sentence transformers): Encode text_clean with a model - NOT USING\n",
        "\n",
        "- Elasticsearch: Load it directly, optionally splitting large texts into chunks"
      ],
      "metadata": {
        "id": "p8aDV7QRnBr5"
      }
    },
    {
      "cell_type": "code",
      "source": [
        "# Indexin"
      ],
      "metadata": {
        "id": "WboN2CvNnAQx"
      },
      "execution_count": null,
      "outputs": []
    }
  ]
}